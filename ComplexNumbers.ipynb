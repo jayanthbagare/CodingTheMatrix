{
  "nbformat": 4,
  "nbformat_minor": 0,
  "metadata": {
    "colab": {
      "name": "ComplexNumbers.ipynb",
      "provenance": [],
      "collapsed_sections": [],
      "authorship_tag": "ABX9TyOFdrZyPQHtyKRut+Tag5go",
      "include_colab_link": true
    },
    "kernelspec": {
      "name": "python3",
      "display_name": "Python 3"
    },
    "language_info": {
      "name": "python"
    }
  },
  "cells": [
    {
      "cell_type": "markdown",
      "metadata": {
        "id": "view-in-github",
        "colab_type": "text"
      },
      "source": [
        "<a href=\"https://colab.research.google.com/github/jayanthbagare/CodingTheMatrix/blob/main/ComplexNumbers.ipynb\" target=\"_parent\"><img src=\"https://colab.research.google.com/assets/colab-badge.svg\" alt=\"Open In Colab\"/></a>"
      ]
    },
    {
      "cell_type": "code",
      "metadata": {
        "id": "kvKVyrC2ILeI"
      },
      "source": [
        "import matplotlib.pyplot as plt"
      ],
      "execution_count": 1,
      "outputs": []
    },
    {
      "cell_type": "code",
      "metadata": {
        "id": "TG4UQVpGKpCF"
      },
      "source": [
        "import numpy as np"
      ],
      "execution_count": 6,
      "outputs": []
    },
    {
      "cell_type": "code",
      "metadata": {
        "id": "nlp-FkszQG6F"
      },
      "source": [
        "import cmath"
      ],
      "execution_count": 7,
      "outputs": []
    },
    {
      "cell_type": "code",
      "metadata": {
        "id": "dCWUeZiKKq3X"
      },
      "source": [
        "s = {complex(2,2),complex(3,2),complex(1.75,1),complex(2,1),complex(2.25,1),complex(2.5,1),complex(2.75,1),complex(3,1),complex(3.25,1)}"
      ],
      "execution_count": 12,
      "outputs": []
    },
    {
      "cell_type": "code",
      "metadata": {
        "colab": {
          "base_uri": "https://localhost:8080/",
          "height": 265
        },
        "id": "l3Etd6N-LVYc",
        "outputId": "2b0bbaa4-053d-41b6-8622-25e49058d5d7"
      },
      "source": [
        "plt.xlim(-5,5)\n",
        "plt.ylim(-5,5)\n",
        "plt.axvline(0, c='black', ls='--')\n",
        "plt.axhline(0, c='black', ls='--')\n",
        "for i in s:\n",
        "  plt.scatter(i.real,i.imag,c=\"green\")"
      ],
      "execution_count": 36,
      "outputs": [
        {
          "output_type": "display_data",
          "data": {
            "image/png": "[encoded data removed]",
            "text/plain": [
              "<Figure size 432x288 with 1 Axes>"
            ]
          },
          "metadata": {
            "needs_background": "light"
          }
        }
      ]
    },
    {
      "cell_type": "markdown",
      "metadata": {
        "id": "h6-7TpfgSLQ1"
      },
      "source": [
        "Translation is the transformation of adding a complex number to every complex number, such that a shift in x and y positions occur In this case, we add 1+2i to every point in the set S"
      ]
    },
    {
      "cell_type": "code",
      "metadata": {
        "colab": {
          "base_uri": "https://localhost:8080/",
          "height": 269
        },
        "id": "TBPeTkIvSWmo",
        "outputId": "72d3e05c-c326-43c7-add6-243dcba95de3"
      },
      "source": [
        "ctranslate = complex(1,2)\n",
        "t = set( i + ctranslate for i in s)\n",
        "plt.xlim(0,5)\n",
        "plt.ylim(0,5)\n",
        "for z in t:\n",
        "  plt.scatter(z.real,z.imag,c=\"blue\")"
      ],
      "execution_count": 27,
      "outputs": [
        {
          "output_type": "display_data",
          "data": {
            "image/png": "[encoded data removed]",
            "text/plain": [
              "<Figure size 432x288 with 1 Axes>"
            ]
          },
          "metadata": {
            "needs_background": "light"
          }
        }
      ]
    },
    {
      "cell_type": "markdown",
      "metadata": {
        "id": "U3evoXplVi47"
      },
      "source": [
        "Scaling the Image. To scale the image we multiply the complex number with a real number \n",
        "eg..\n",
        "g = 1/2 * z"
      ]
    },
    {
      "cell_type": "code",
      "metadata": {
        "colab": {
          "base_uri": "https://localhost:8080/",
          "height": 269
        },
        "id": "52aM1NlHUjah",
        "outputId": "6f7e7f9b-765f-4ce8-d5f0-7b16e7b1e211"
      },
      "source": [
        "scaleValue = 0.5\n",
        "sc = set(m * scaleValue for m in s)\n",
        "plt.xlim(0,5)\n",
        "plt.ylim(0,5)\n",
        "for z in sc:\n",
        "  plt.scatter(z.real,z.imag,c=\"orange\")"
      ],
      "execution_count": 40,
      "outputs": [
        {
          "output_type": "display_data",
          "data": {
            "image/png": "[encoded data removed]",
            "text/plain": [
              "<Figure size 432x288 with 1 Axes>"
            ]
          },
          "metadata": {
            "needs_background": "light"
          }
        }
      ]
    },
    {
      "cell_type": "markdown",
      "metadata": {
        "id": "3nCZ_1HVXqn3"
      },
      "source": [
        "Getting back to the original image"
      ]
    },
    {
      "cell_type": "code",
      "metadata": {
        "colab": {
          "base_uri": "https://localhost:8080/",
          "height": 265
        },
        "id": "J99O3u_3XXEA",
        "outputId": "c83663f2-b75a-45d2-ead9-bc5b8ec9bdab"
      },
      "source": [
        "plt.xlim(-5,5)\n",
        "plt.ylim(-5,5)\n",
        "plt.axvline(0, c='black', ls='--')\n",
        "plt.axhline(0, c='black', ls='--')\n",
        "for i in s:\n",
        "  plt.scatter(i.real,i.imag,c=\"orange\")"
      ],
      "execution_count": 39,
      "outputs": [
        {
          "output_type": "display_data",
          "data": {
            "image/png": "[encoded data removed]",
            "text/plain": [
              "<Figure size 432x288 with 1 Axes>"
            ]
          },
          "metadata": {
            "needs_background": "light"
          }
        }
      ]
    },
    {
      "cell_type": "markdown",
      "metadata": {
        "id": "oZX4WDY0W8JJ"
      },
      "source": [
        "When the set is multiplied by i, we achieve a transformation(rotation) by 90"
      ]
    },
    {
      "cell_type": "code",
      "metadata": {
        "colab": {
          "base_uri": "https://localhost:8080/",
          "height": 265
        },
        "id": "seAvvhJ3V-o7",
        "outputId": "50ae9a72-a827-43fc-a6fd-2e287855a860"
      },
      "source": [
        "scaleValue = complex(0,1)\n",
        "sc = set(m * scaleValue for m in s)\n",
        "plt.xlim(-5,5)\n",
        "plt.ylim(-5,5)\n",
        "plt.axvline(0, c='black', ls='--')\n",
        "plt.axhline(0, c='black', ls='--')\n",
        "for z in sc:\n",
        "  plt.scatter(z.real,z.imag,c=\"orange\")"
      ],
      "execution_count": 37,
      "outputs": [
        {
          "output_type": "display_data",
          "data": {
            "image/png": "[encoded data removed]",
            "text/plain": [
              "<Figure size 432x288 with 1 Axes>"
            ]
          },
          "metadata": {
            "needs_background": "light"
          }
        }
      ]
    },
    {
      "cell_type": "markdown",
      "metadata": {
        "id": "lXG-IKnVVzjN"
      },
      "source": [
        "Multiplying the complex number set by negative number cause the image to turn by 180 degrees"
      ]
    },
    {
      "cell_type": "code",
      "metadata": {
        "colab": {
          "base_uri": "https://localhost:8080/",
          "height": 265
        },
        "id": "cbDKzEgkVOQL",
        "outputId": "58b38f5d-c077-4cf9-e1a3-78424fff87b6"
      },
      "source": [
        "scaleValue = -1\n",
        "sc = set(m * scaleValue for m in s)\n",
        "plt.xlim(-5,5)\n",
        "plt.ylim(-5,5)\n",
        "plt.axvline(0, c='black', ls='--')\n",
        "plt.axhline(0, c='black', ls='--')\n",
        "for z in sc:\n",
        "  plt.scatter(z.real,z.imag,c=\"orange\")"
      ],
      "execution_count": 33,
      "outputs": [
        {
          "output_type": "display_data",
          "data": {
            "image/png": "[encoded data removed]",
            "text/plain": [
              "<Figure size 432x288 with 1 Axes>"
            ]
          },
          "metadata": {
            "needs_background": "light"
          }
        }
      ]
    },
    {
      "cell_type": "code",
      "metadata": {
        "id": "qTVMavGaXLK_"
      },
      "source": [
        ""
      ],
      "execution_count": null,
      "outputs": []
    }
  ]
}